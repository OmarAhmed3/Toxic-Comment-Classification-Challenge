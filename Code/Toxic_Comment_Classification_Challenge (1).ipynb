{
  "metadata": {
    "kernelspec": {
      "language": "python",
      "display_name": "Python 3",
      "name": "python3"
    },
    "language_info": {
      "name": "python",
      "version": "3.7.12",
      "mimetype": "text/x-python",
      "codemirror_mode": {
        "name": "ipython",
        "version": 3
      },
      "pygments_lexer": "ipython3",
      "nbconvert_exporter": "python",
      "file_extension": ".py"
    },
    "colab": {
      "name": "Toxic Comment Classification Challenge.ipynb",
      "provenance": []
    }
  },
  "nbformat_minor": 0,
  "nbformat": 4,
  "cells": [
    {
      "cell_type": "markdown",
      "source": [
        "## Toxic Comment Classification Challenge \n",
        "### Identify and classify toxic online comments"
      ],
      "metadata": {
        "id": "817dTkWUpc9z"
      }
    },
    {
      "cell_type": "markdown",
      "source": [
        "## Note:\n",
        "\n",
        "### If you want to  run code Please Run code in kaggle Notebook"
      ],
      "metadata": {
        "id": "j7v9HYp0pc94"
      }
    },
    {
      "cell_type": "markdown",
      "source": [
        "## Team : \n",
        "### 1. Omar Ahmed Mohamed Ahmed \n",
        "### 2. Asmaa Saeed \n",
        "### 3. Mohamed Salama \n",
        "### 4. Alaa Elawady \n",
        "### 5. Fatema Samir"
      ],
      "metadata": {
        "id": "gyPrFnyPpc95"
      }
    },
    {
      "cell_type": "markdown",
      "source": [
        "### Import Libaraies"
      ],
      "metadata": {
        "id": "OtKzJm5tC-Jv"
      }
    },
    {
      "cell_type": "code",
      "source": [
        "# This Python 3 environment comes with many helpful analytics libraries installed\n",
        "# It is defined by the kaggle/python Docker image: https://github.com/kaggle/docker-python\n",
        "# For example, here's several helpful packages to load\n",
        "\n",
        "import numpy as np # linear algebra\n",
        "import pandas as pd # data processing, CSV file I/O (e.g. pd.read_csv)\n",
        "\n",
        "# Input data files are available in the read-only \"../input/\" directory\n",
        "# For example, running this (by clicking run or pressing Shift+Enter) will list all files under the input directory\n",
        "\n",
        "import os\n",
        "for dirname, _, filenames in os.walk('/kaggle/input'):\n",
        "    for filename in filenames:\n",
        "        print(os.path.join(dirname, filename))\n",
        "\n",
        "# You can write up to 20GB to the current directory (/kaggle/working/) that gets preserved as output when you create a version using \"Save & Run All\" \n",
        "# You can also write temporary files to /kaggle/temp/, but they won't be saved outside of the current session"
      ],
      "metadata": {
        "execution": {
          "iopub.status.busy": "2022-07-09T20:09:39.937836Z",
          "iopub.execute_input": "2022-07-09T20:09:39.938308Z",
          "iopub.status.idle": "2022-07-09T20:09:39.964579Z",
          "shell.execute_reply.started": "2022-07-09T20:09:39.938224Z",
          "shell.execute_reply": "2022-07-09T20:09:39.963645Z"
        },
        "trusted": true,
        "id": "ueve5Z0Dpc97",
        "outputId": "b63c1bd6-9063-4848-804a-36f76ff58bb2"
      },
      "execution_count": null,
      "outputs": [
        {
          "name": "stdout",
          "text": "/kaggle/input/jigsaw-toxic-comment-classification-challenge/train.csv.zip\n/kaggle/input/jigsaw-toxic-comment-classification-challenge/sample_submission.csv.zip\n/kaggle/input/jigsaw-toxic-comment-classification-challenge/test_labels.csv.zip\n/kaggle/input/jigsaw-toxic-comment-classification-challenge/test.csv.zip\n",
          "output_type": "stream"
        }
      ]
    },
    {
      "cell_type": "code",
      "source": [
        "import zipfile\n",
        "z= zipfile.ZipFile('/kaggle/input/jigsaw-toxic-comment-classification-challenge/test.csv.zip')\n",
        "z.extractall()\n",
        "\n",
        "z= zipfile.ZipFile('/kaggle/input/jigsaw-toxic-comment-classification-challenge/train.csv.zip')\n",
        "z.extractall()\n",
        "\n",
        "z= zipfile.ZipFile('/kaggle/input/jigsaw-toxic-comment-classification-challenge/test_labels.csv.zip')\n",
        "z.extractall()"
      ],
      "metadata": {
        "execution": {
          "iopub.status.busy": "2022-07-09T20:09:39.966316Z",
          "iopub.execute_input": "2022-07-09T20:09:39.967151Z",
          "iopub.status.idle": "2022-07-09T20:09:42.127395Z",
          "shell.execute_reply.started": "2022-07-09T20:09:39.967111Z",
          "shell.execute_reply": "2022-07-09T20:09:42.126352Z"
        },
        "trusted": true,
        "id": "o7jHxSZVpc99"
      },
      "execution_count": null,
      "outputs": []
    },
    {
      "cell_type": "code",
      "source": [
        "import seaborn as sns\n",
        "from keras.preprocessing.text import Tokenizer  \n",
        "from keras.preprocessing.sequence import pad_sequences\n",
        "from keras import models\n",
        "from keras import layers\n",
        "from keras.preprocessing.sequence import pad_sequences\n",
        "from keras.preprocessing.text import Tokenizer\n",
        "from keras import models\n",
        "from keras import layers\n",
        "from keras.models import Sequential\n",
        "from keras.layers import Dense, GRU\n",
        "from keras.layers import Embedding\n",
        "from keras.layers import LSTM\n",
        "\n",
        "import numpy as np\n",
        "import pandas as pd \n",
        "import matplotlib.pyplot as plt\n",
        "\n",
        "from sklearn.model_selection import train_test_split\n",
        "\n",
        "import numpy as np\n",
        "import re\n",
        "import string\n",
        "from nltk.tokenize import word_tokenize\n",
        "from nltk.corpus import stopwords\n",
        "from nltk.stem.porter import PorterStemmer\n",
        "from nltk.stem import WordNetLemmatizer\n",
        "import unicodedata\n",
        "import html\n",
        "from sklearn.model_selection import train_test_split\n",
        "stop_words = stopwords.words('english')\n"
      ],
      "metadata": {
        "id": "AsreMz80-YJs",
        "execution": {
          "iopub.status.busy": "2022-07-09T20:09:42.129581Z",
          "iopub.execute_input": "2022-07-09T20:09:42.130445Z",
          "iopub.status.idle": "2022-07-09T20:09:49.133298Z",
          "shell.execute_reply.started": "2022-07-09T20:09:42.130403Z",
          "shell.execute_reply": "2022-07-09T20:09:49.132296Z"
        },
        "trusted": true
      },
      "execution_count": null,
      "outputs": []
    },
    {
      "cell_type": "markdown",
      "source": [
        "### Import Data "
      ],
      "metadata": {
        "id": "_e5ndM8oDN0I"
      }
    },
    {
      "cell_type": "code",
      "source": [
        "training_data = pd.read_csv(\"train.csv\")"
      ],
      "metadata": {
        "id": "7bgKwhhyDLLm",
        "execution": {
          "iopub.status.busy": "2022-07-09T20:09:49.134752Z",
          "iopub.execute_input": "2022-07-09T20:09:49.135414Z",
          "iopub.status.idle": "2022-07-09T20:09:50.334839Z",
          "shell.execute_reply.started": "2022-07-09T20:09:49.135377Z",
          "shell.execute_reply": "2022-07-09T20:09:50.333844Z"
        },
        "trusted": true
      },
      "execution_count": null,
      "outputs": []
    },
    {
      "cell_type": "code",
      "source": [
        "training_data.head(20)"
      ],
      "metadata": {
        "id": "55KhG_IMHRQc",
        "outputId": "d713ae69-3ed9-453c-9d57-2eb223f230fb",
        "execution": {
          "iopub.status.busy": "2022-07-09T20:09:50.340609Z",
          "iopub.execute_input": "2022-07-09T20:09:50.341742Z",
          "iopub.status.idle": "2022-07-09T20:09:50.373441Z",
          "shell.execute_reply.started": "2022-07-09T20:09:50.341703Z",
          "shell.execute_reply": "2022-07-09T20:09:50.372637Z"
        },
        "trusted": true
      },
      "execution_count": null,
      "outputs": [
        {
          "execution_count": 5,
          "output_type": "execute_result",
          "data": {
            "text/plain": "                  id                                       comment_text  \\\n0   0000997932d777bf  Explanation\\nWhy the edits made under my usern...   \n1   000103f0d9cfb60f  D'aww! He matches this background colour I'm s...   \n2   000113f07ec002fd  Hey man, I'm really not trying to edit war. It...   \n3   0001b41b1c6bb37e  \"\\nMore\\nI can't make any real suggestions on ...   \n4   0001d958c54c6e35  You, sir, are my hero. Any chance you remember...   \n5   00025465d4725e87  \"\\n\\nCongratulations from me as well, use the ...   \n6   0002bcb3da6cb337       COCKSUCKER BEFORE YOU PISS AROUND ON MY WORK   \n7   00031b1e95af7921  Your vandalism to the Matt Shirvington article...   \n8   00037261f536c51d  Sorry if the word 'nonsense' was offensive to ...   \n9   00040093b2687caa  alignment on this subject and which are contra...   \n10  0005300084f90edc  \"\\nFair use rationale for Image:Wonju.jpg\\n\\nT...   \n11  00054a5e18b50dd4  bbq \\n\\nbe a man and lets discuss it-maybe ove...   \n12  0005c987bdfc9d4b  Hey... what is it..\\n@ | talk .\\nWhat is it......   \n13  0006f16e4e9f292e  Before you start throwing accusations and warn...   \n14  00070ef96486d6f9  Oh, and the girl above started her arguments w...   \n15  00078f8ce7eb276d  \"\\n\\nJuelz Santanas Age\\n\\nIn 2002, Juelz Sant...   \n16  0007e25b2121310b  Bye! \\n\\nDon't look, come or think of comming ...   \n17  000897889268bc93   REDIRECT Talk:Voydan Pop Georgiev- Chernodrinski   \n18  0009801bd85e5806  The Mitsurugi point made no sense - why not ar...   \n19  0009eaea3325de8c  Don't mean to bother you \\n\\nI see that you're...   \n\n    toxic  severe_toxic  obscene  threat  insult  identity_hate  \n0       0             0        0       0       0              0  \n1       0             0        0       0       0              0  \n2       0             0        0       0       0              0  \n3       0             0        0       0       0              0  \n4       0             0        0       0       0              0  \n5       0             0        0       0       0              0  \n6       1             1        1       0       1              0  \n7       0             0        0       0       0              0  \n8       0             0        0       0       0              0  \n9       0             0        0       0       0              0  \n10      0             0        0       0       0              0  \n11      0             0        0       0       0              0  \n12      1             0        0       0       0              0  \n13      0             0        0       0       0              0  \n14      0             0        0       0       0              0  \n15      0             0        0       0       0              0  \n16      1             0        0       0       0              0  \n17      0             0        0       0       0              0  \n18      0             0        0       0       0              0  \n19      0             0        0       0       0              0  ",
            "text/html": "<div>\n<style scoped>\n    .dataframe tbody tr th:only-of-type {\n        vertical-align: middle;\n    }\n\n    .dataframe tbody tr th {\n        vertical-align: top;\n    }\n\n    .dataframe thead th {\n        text-align: right;\n    }\n</style>\n<table border=\"1\" class=\"dataframe\">\n  <thead>\n    <tr style=\"text-align: right;\">\n      <th></th>\n      <th>id</th>\n      <th>comment_text</th>\n      <th>toxic</th>\n      <th>severe_toxic</th>\n      <th>obscene</th>\n      <th>threat</th>\n      <th>insult</th>\n      <th>identity_hate</th>\n    </tr>\n  </thead>\n  <tbody>\n    <tr>\n      <th>0</th>\n      <td>0000997932d777bf</td>\n      <td>Explanation\\nWhy the edits made under my usern...</td>\n      <td>0</td>\n      <td>0</td>\n      <td>0</td>\n      <td>0</td>\n      <td>0</td>\n      <td>0</td>\n    </tr>\n    <tr>\n      <th>1</th>\n      <td>000103f0d9cfb60f</td>\n      <td>D'aww! He matches this background colour I'm s...</td>\n      <td>0</td>\n      <td>0</td>\n      <td>0</td>\n      <td>0</td>\n      <td>0</td>\n      <td>0</td>\n    </tr>\n    <tr>\n      <th>2</th>\n      <td>000113f07ec002fd</td>\n      <td>Hey man, I'm really not trying to edit war. It...</td>\n      <td>0</td>\n      <td>0</td>\n      <td>0</td>\n      <td>0</td>\n      <td>0</td>\n      <td>0</td>\n    </tr>\n    <tr>\n      <th>3</th>\n      <td>0001b41b1c6bb37e</td>\n      <td>\"\\nMore\\nI can't make any real suggestions on ...</td>\n      <td>0</td>\n      <td>0</td>\n      <td>0</td>\n      <td>0</td>\n      <td>0</td>\n      <td>0</td>\n    </tr>\n    <tr>\n      <th>4</th>\n      <td>0001d958c54c6e35</td>\n      <td>You, sir, are my hero. Any chance you remember...</td>\n      <td>0</td>\n      <td>0</td>\n      <td>0</td>\n      <td>0</td>\n      <td>0</td>\n      <td>0</td>\n    </tr>\n    <tr>\n      <th>5</th>\n      <td>00025465d4725e87</td>\n      <td>\"\\n\\nCongratulations from me as well, use the ...</td>\n      <td>0</td>\n      <td>0</td>\n      <td>0</td>\n      <td>0</td>\n      <td>0</td>\n      <td>0</td>\n    </tr>\n    <tr>\n      <th>6</th>\n      <td>0002bcb3da6cb337</td>\n      <td>COCKSUCKER BEFORE YOU PISS AROUND ON MY WORK</td>\n      <td>1</td>\n      <td>1</td>\n      <td>1</td>\n      <td>0</td>\n      <td>1</td>\n      <td>0</td>\n    </tr>\n    <tr>\n      <th>7</th>\n      <td>00031b1e95af7921</td>\n      <td>Your vandalism to the Matt Shirvington article...</td>\n      <td>0</td>\n      <td>0</td>\n      <td>0</td>\n      <td>0</td>\n      <td>0</td>\n      <td>0</td>\n    </tr>\n    <tr>\n      <th>8</th>\n      <td>00037261f536c51d</td>\n      <td>Sorry if the word 'nonsense' was offensive to ...</td>\n      <td>0</td>\n      <td>0</td>\n      <td>0</td>\n      <td>0</td>\n      <td>0</td>\n      <td>0</td>\n    </tr>\n    <tr>\n      <th>9</th>\n      <td>00040093b2687caa</td>\n      <td>alignment on this subject and which are contra...</td>\n      <td>0</td>\n      <td>0</td>\n      <td>0</td>\n      <td>0</td>\n      <td>0</td>\n      <td>0</td>\n    </tr>\n    <tr>\n      <th>10</th>\n      <td>0005300084f90edc</td>\n      <td>\"\\nFair use rationale for Image:Wonju.jpg\\n\\nT...</td>\n      <td>0</td>\n      <td>0</td>\n      <td>0</td>\n      <td>0</td>\n      <td>0</td>\n      <td>0</td>\n    </tr>\n    <tr>\n      <th>11</th>\n      <td>00054a5e18b50dd4</td>\n      <td>bbq \\n\\nbe a man and lets discuss it-maybe ove...</td>\n      <td>0</td>\n      <td>0</td>\n      <td>0</td>\n      <td>0</td>\n      <td>0</td>\n      <td>0</td>\n    </tr>\n    <tr>\n      <th>12</th>\n      <td>0005c987bdfc9d4b</td>\n      <td>Hey... what is it..\\n@ | talk .\\nWhat is it......</td>\n      <td>1</td>\n      <td>0</td>\n      <td>0</td>\n      <td>0</td>\n      <td>0</td>\n      <td>0</td>\n    </tr>\n    <tr>\n      <th>13</th>\n      <td>0006f16e4e9f292e</td>\n      <td>Before you start throwing accusations and warn...</td>\n      <td>0</td>\n      <td>0</td>\n      <td>0</td>\n      <td>0</td>\n      <td>0</td>\n      <td>0</td>\n    </tr>\n    <tr>\n      <th>14</th>\n      <td>00070ef96486d6f9</td>\n      <td>Oh, and the girl above started her arguments w...</td>\n      <td>0</td>\n      <td>0</td>\n      <td>0</td>\n      <td>0</td>\n      <td>0</td>\n      <td>0</td>\n    </tr>\n    <tr>\n      <th>15</th>\n      <td>00078f8ce7eb276d</td>\n      <td>\"\\n\\nJuelz Santanas Age\\n\\nIn 2002, Juelz Sant...</td>\n      <td>0</td>\n      <td>0</td>\n      <td>0</td>\n      <td>0</td>\n      <td>0</td>\n      <td>0</td>\n    </tr>\n    <tr>\n      <th>16</th>\n      <td>0007e25b2121310b</td>\n      <td>Bye! \\n\\nDon't look, come or think of comming ...</td>\n      <td>1</td>\n      <td>0</td>\n      <td>0</td>\n      <td>0</td>\n      <td>0</td>\n      <td>0</td>\n    </tr>\n    <tr>\n      <th>17</th>\n      <td>000897889268bc93</td>\n      <td>REDIRECT Talk:Voydan Pop Georgiev- Chernodrinski</td>\n      <td>0</td>\n      <td>0</td>\n      <td>0</td>\n      <td>0</td>\n      <td>0</td>\n      <td>0</td>\n    </tr>\n    <tr>\n      <th>18</th>\n      <td>0009801bd85e5806</td>\n      <td>The Mitsurugi point made no sense - why not ar...</td>\n      <td>0</td>\n      <td>0</td>\n      <td>0</td>\n      <td>0</td>\n      <td>0</td>\n      <td>0</td>\n    </tr>\n    <tr>\n      <th>19</th>\n      <td>0009eaea3325de8c</td>\n      <td>Don't mean to bother you \\n\\nI see that you're...</td>\n      <td>0</td>\n      <td>0</td>\n      <td>0</td>\n      <td>0</td>\n      <td>0</td>\n      <td>0</td>\n    </tr>\n  </tbody>\n</table>\n</div>"
          },
          "metadata": {}
        }
      ]
    },
    {
      "cell_type": "markdown",
      "source": [
        "## Data Analysis\n"
      ],
      "metadata": {
        "id": "EzsF6nmWK7Gf"
      }
    },
    {
      "cell_type": "code",
      "source": [
        "training_data.info()"
      ],
      "metadata": {
        "id": "h1VqwfYoIpqT",
        "outputId": "3ddcd9a3-b0d5-4c11-9ba0-08b5d098fe58",
        "execution": {
          "iopub.status.busy": "2022-07-09T20:09:50.377389Z",
          "iopub.execute_input": "2022-07-09T20:09:50.379623Z",
          "iopub.status.idle": "2022-07-09T20:09:50.456070Z",
          "shell.execute_reply.started": "2022-07-09T20:09:50.379579Z",
          "shell.execute_reply": "2022-07-09T20:09:50.455221Z"
        },
        "trusted": true
      },
      "execution_count": null,
      "outputs": [
        {
          "name": "stdout",
          "text": "<class 'pandas.core.frame.DataFrame'>\nRangeIndex: 159571 entries, 0 to 159570\nData columns (total 8 columns):\n #   Column         Non-Null Count   Dtype \n---  ------         --------------   ----- \n 0   id             159571 non-null  object\n 1   comment_text   159571 non-null  object\n 2   toxic          159571 non-null  int64 \n 3   severe_toxic   159571 non-null  int64 \n 4   obscene        159571 non-null  int64 \n 5   threat         159571 non-null  int64 \n 6   insult         159571 non-null  int64 \n 7   identity_hate  159571 non-null  int64 \ndtypes: int64(6), object(2)\nmemory usage: 9.7+ MB\n",
          "output_type": "stream"
        }
      ]
    },
    {
      "cell_type": "code",
      "source": [
        "training_data.shape"
      ],
      "metadata": {
        "id": "2e5HO97hKyS7",
        "outputId": "8b7ec646-c3ae-4956-8a18-9cde242b54fc",
        "execution": {
          "iopub.status.busy": "2022-07-09T20:09:50.457153Z",
          "iopub.execute_input": "2022-07-09T20:09:50.457701Z",
          "iopub.status.idle": "2022-07-09T20:09:50.472225Z",
          "shell.execute_reply.started": "2022-07-09T20:09:50.457665Z",
          "shell.execute_reply": "2022-07-09T20:09:50.471129Z"
        },
        "trusted": true
      },
      "execution_count": null,
      "outputs": [
        {
          "execution_count": 7,
          "output_type": "execute_result",
          "data": {
            "text/plain": "(159571, 8)"
          },
          "metadata": {}
        }
      ]
    },
    {
      "cell_type": "code",
      "source": [
        "training_data.describe()"
      ],
      "metadata": {
        "execution": {
          "iopub.status.busy": "2022-07-09T20:09:50.477084Z",
          "iopub.execute_input": "2022-07-09T20:09:50.477817Z",
          "iopub.status.idle": "2022-07-09T20:09:50.539613Z",
          "shell.execute_reply.started": "2022-07-09T20:09:50.477782Z",
          "shell.execute_reply": "2022-07-09T20:09:50.538723Z"
        },
        "trusted": true,
        "id": "iFv2UiGypc-E",
        "outputId": "1e231333-71c9-4e28-e256-6991b6516de9"
      },
      "execution_count": null,
      "outputs": [
        {
          "execution_count": 8,
          "output_type": "execute_result",
          "data": {
            "text/plain": "               toxic   severe_toxic        obscene         threat  \\\ncount  159571.000000  159571.000000  159571.000000  159571.000000   \nmean        0.095844       0.009996       0.052948       0.002996   \nstd         0.294379       0.099477       0.223931       0.054650   \nmin         0.000000       0.000000       0.000000       0.000000   \n25%         0.000000       0.000000       0.000000       0.000000   \n50%         0.000000       0.000000       0.000000       0.000000   \n75%         0.000000       0.000000       0.000000       0.000000   \nmax         1.000000       1.000000       1.000000       1.000000   \n\n              insult  identity_hate  \ncount  159571.000000  159571.000000  \nmean        0.049364       0.008805  \nstd         0.216627       0.093420  \nmin         0.000000       0.000000  \n25%         0.000000       0.000000  \n50%         0.000000       0.000000  \n75%         0.000000       0.000000  \nmax         1.000000       1.000000  ",
            "text/html": "<div>\n<style scoped>\n    .dataframe tbody tr th:only-of-type {\n        vertical-align: middle;\n    }\n\n    .dataframe tbody tr th {\n        vertical-align: top;\n    }\n\n    .dataframe thead th {\n        text-align: right;\n    }\n</style>\n<table border=\"1\" class=\"dataframe\">\n  <thead>\n    <tr style=\"text-align: right;\">\n      <th></th>\n      <th>toxic</th>\n      <th>severe_toxic</th>\n      <th>obscene</th>\n      <th>threat</th>\n      <th>insult</th>\n      <th>identity_hate</th>\n    </tr>\n  </thead>\n  <tbody>\n    <tr>\n      <th>count</th>\n      <td>159571.000000</td>\n      <td>159571.000000</td>\n      <td>159571.000000</td>\n      <td>159571.000000</td>\n      <td>159571.000000</td>\n      <td>159571.000000</td>\n    </tr>\n    <tr>\n      <th>mean</th>\n      <td>0.095844</td>\n      <td>0.009996</td>\n      <td>0.052948</td>\n      <td>0.002996</td>\n      <td>0.049364</td>\n      <td>0.008805</td>\n    </tr>\n    <tr>\n      <th>std</th>\n      <td>0.294379</td>\n      <td>0.099477</td>\n      <td>0.223931</td>\n      <td>0.054650</td>\n      <td>0.216627</td>\n      <td>0.093420</td>\n    </tr>\n    <tr>\n      <th>min</th>\n      <td>0.000000</td>\n      <td>0.000000</td>\n      <td>0.000000</td>\n      <td>0.000000</td>\n      <td>0.000000</td>\n      <td>0.000000</td>\n    </tr>\n    <tr>\n      <th>25%</th>\n      <td>0.000000</td>\n      <td>0.000000</td>\n      <td>0.000000</td>\n      <td>0.000000</td>\n      <td>0.000000</td>\n      <td>0.000000</td>\n    </tr>\n    <tr>\n      <th>50%</th>\n      <td>0.000000</td>\n      <td>0.000000</td>\n      <td>0.000000</td>\n      <td>0.000000</td>\n      <td>0.000000</td>\n      <td>0.000000</td>\n    </tr>\n    <tr>\n      <th>75%</th>\n      <td>0.000000</td>\n      <td>0.000000</td>\n      <td>0.000000</td>\n      <td>0.000000</td>\n      <td>0.000000</td>\n      <td>0.000000</td>\n    </tr>\n    <tr>\n      <th>max</th>\n      <td>1.000000</td>\n      <td>1.000000</td>\n      <td>1.000000</td>\n      <td>1.000000</td>\n      <td>1.000000</td>\n      <td>1.000000</td>\n    </tr>\n  </tbody>\n</table>\n</div>"
          },
          "metadata": {}
        }
      ]
    },
    {
      "cell_type": "code",
      "source": [
        "# checking for any null values\n",
        "training_data.isnull().sum()"
      ],
      "metadata": {
        "id": "YN2NtEc4T84x",
        "outputId": "1e101913-ef8c-494f-8299-b9305bc3432b",
        "execution": {
          "iopub.status.busy": "2022-07-09T20:09:50.540683Z",
          "iopub.execute_input": "2022-07-09T20:09:50.541190Z",
          "iopub.status.idle": "2022-07-09T20:09:50.611746Z",
          "shell.execute_reply.started": "2022-07-09T20:09:50.541158Z",
          "shell.execute_reply": "2022-07-09T20:09:50.610756Z"
        },
        "trusted": true
      },
      "execution_count": null,
      "outputs": [
        {
          "execution_count": 9,
          "output_type": "execute_result",
          "data": {
            "text/plain": "id               0\ncomment_text     0\ntoxic            0\nsevere_toxic     0\nobscene          0\nthreat           0\ninsult           0\nidentity_hate    0\ndtype: int64"
          },
          "metadata": {}
        }
      ]
    },
    {
      "cell_type": "code",
      "source": [
        "training_data = training_data.drop(['id'],axis = 1)"
      ],
      "metadata": {
        "id": "CEOBlzxzknL-",
        "execution": {
          "iopub.status.busy": "2022-07-09T20:09:50.612884Z",
          "iopub.execute_input": "2022-07-09T20:09:50.613452Z",
          "iopub.status.idle": "2022-07-09T20:09:50.631092Z",
          "shell.execute_reply.started": "2022-07-09T20:09:50.613412Z",
          "shell.execute_reply": "2022-07-09T20:09:50.630153Z"
        },
        "trusted": true
      },
      "execution_count": null,
      "outputs": []
    },
    {
      "cell_type": "code",
      "source": [
        "training_data.duplicated().sum()"
      ],
      "metadata": {
        "id": "OoPDVmXBWUyZ",
        "outputId": "471bcad2-9f49-4658-8308-25f82ea8dc6c",
        "execution": {
          "iopub.status.busy": "2022-07-09T20:09:50.635463Z",
          "iopub.execute_input": "2022-07-09T20:09:50.637763Z",
          "iopub.status.idle": "2022-07-09T20:09:50.878194Z",
          "shell.execute_reply.started": "2022-07-09T20:09:50.637730Z",
          "shell.execute_reply": "2022-07-09T20:09:50.877259Z"
        },
        "trusted": true
      },
      "execution_count": null,
      "outputs": [
        {
          "execution_count": 11,
          "output_type": "execute_result",
          "data": {
            "text/plain": "0"
          },
          "metadata": {}
        }
      ]
    },
    {
      "cell_type": "code",
      "source": [
        "training_data.info()"
      ],
      "metadata": {
        "id": "IqjhaREOk2a1",
        "outputId": "1eea11f3-dfec-4248-e9b6-07a08c0eaf55",
        "execution": {
          "iopub.status.busy": "2022-07-09T20:09:50.879814Z",
          "iopub.execute_input": "2022-07-09T20:09:50.880173Z",
          "iopub.status.idle": "2022-07-09T20:09:50.915246Z",
          "shell.execute_reply.started": "2022-07-09T20:09:50.880137Z",
          "shell.execute_reply": "2022-07-09T20:09:50.914376Z"
        },
        "trusted": true
      },
      "execution_count": null,
      "outputs": [
        {
          "name": "stdout",
          "text": "<class 'pandas.core.frame.DataFrame'>\nRangeIndex: 159571 entries, 0 to 159570\nData columns (total 7 columns):\n #   Column         Non-Null Count   Dtype \n---  ------         --------------   ----- \n 0   comment_text   159571 non-null  object\n 1   toxic          159571 non-null  int64 \n 2   severe_toxic   159571 non-null  int64 \n 3   obscene        159571 non-null  int64 \n 4   threat         159571 non-null  int64 \n 5   insult         159571 non-null  int64 \n 6   identity_hate  159571 non-null  int64 \ndtypes: int64(6), object(1)\nmemory usage: 8.5+ MB\n",
          "output_type": "stream"
        }
      ]
    },
    {
      "cell_type": "code",
      "source": [
        "# Length of the comments\n",
        "comment_lengths = [len(comment.split()) for comment in training_data[\"comment_text\"]]\n",
        "# plot the distribution of tweet lengths\n",
        "plt.figure(figsize=(10,5))\n",
        "sns.histplot(comment_lengths, bins=100);\n",
        "plt.xlabel(\"Comment Length(Number of words)\", fontsize=14);\n",
        "plt.ylabel(\"Number of Comments\", fontsize=14);\n",
        "plt.title(\"Distribution of comment Lengths\", fontsize=14);\n"
      ],
      "metadata": {
        "id": "0PQdB8CvUcfz",
        "outputId": "6ab2e757-ff9e-4eaf-8950-1b88a0f5a10a",
        "execution": {
          "iopub.status.busy": "2022-07-09T20:09:50.918094Z",
          "iopub.execute_input": "2022-07-09T20:09:50.918349Z",
          "iopub.status.idle": "2022-07-09T20:09:52.085220Z",
          "shell.execute_reply.started": "2022-07-09T20:09:50.918326Z",
          "shell.execute_reply": "2022-07-09T20:09:52.084270Z"
        },
        "trusted": true
      },
      "execution_count": null,
      "outputs": [
        {
          "output_type": "display_data",
          "data": {
            "text/plain": "<Figure size 720x360 with 1 Axes>",
            "image/png": "[encoded data removed]"
          },
          "metadata": {
            "needs_background": "light"
          }
        }
      ]
    },
    {
      "cell_type": "code",
      "source": [
        "# Below is a plot showing the comment length frequency. As noticed, most of the comments are short with only a few comments longer than 1000 words\n",
        "sns.set(color_codes=True)\n",
        "comment_len = training_data.comment_text.str.len()\n",
        "sns.distplot(comment_len, kde=False, bins=20, color=\"steelblue\")"
      ],
      "metadata": {
        "id": "CIJLzijZS2ZX",
        "outputId": "401458aa-47c6-43d8-a2cb-6c1e55af8f85",
        "execution": {
          "iopub.status.busy": "2022-07-09T20:09:52.086560Z",
          "iopub.execute_input": "2022-07-09T20:09:52.087175Z",
          "iopub.status.idle": "2022-07-09T20:09:52.437874Z",
          "shell.execute_reply.started": "2022-07-09T20:09:52.087135Z",
          "shell.execute_reply": "2022-07-09T20:09:52.436965Z"
        },
        "trusted": true
      },
      "execution_count": null,
      "outputs": [
        {
          "name": "stderr",
          "text": "/opt/conda/lib/python3.7/site-packages/seaborn/distributions.py:2619: FutureWarning: `distplot` is a deprecated function and will be removed in a future version. Please adapt your code to use either `displot` (a figure-level function with similar flexibility) or `histplot` (an axes-level function for histograms).\n  warnings.warn(msg, FutureWarning)\n",
          "output_type": "stream"
        },
        {
          "execution_count": 14,
          "output_type": "execute_result",
          "data": {
            "text/plain": "<AxesSubplot:xlabel='comment_text'>"
          },
          "metadata": {}
        },
        {
          "output_type": "display_data",
          "data": {
            "text/plain": "<Figure size 432x288 with 1 Axes>",
            "image/png": "[encoded data removed]"
          },
          "metadata": {}
        }
      ]
    },
    {
      "cell_type": "code",
      "source": [
        "training_data[\"comment_text\"].sample(20)"
      ],
      "metadata": {
        "id": "MmbEDRthLIC-",
        "outputId": "c6efd6bd-874d-4d3e-b0e9-e5b699507fdf",
        "execution": {
          "iopub.status.busy": "2022-07-09T20:09:52.439218Z",
          "iopub.execute_input": "2022-07-09T20:09:52.439744Z",
          "iopub.status.idle": "2022-07-09T20:09:52.452630Z",
          "shell.execute_reply.started": "2022-07-09T20:09:52.439705Z",
          "shell.execute_reply": "2022-07-09T20:09:52.451543Z"
        },
        "trusted": true
      },
      "execution_count": null,
      "outputs": [
        {
          "execution_count": 15,
          "output_type": "execute_result",
          "data": {
            "text/plain": "31276     Fellow, user. Can karma your ovaries.Users. Br...\n12772     Box added, copying Banksia prionotes. I couldn...\n115144    Honestly, Olaf, the POV fork argument just doe...\n155760            the entire human race is quite impressive\n66781     \"\\nRe: C.J. Griffin. Correct. However, your st...\n122515    Why is it the BillCJ insists on screwing aroun...\n125199         You should know how to wp:agf. For tildes...\n15131     Contested deletion \\n\\nThis article should not...\n25991     :Cuesight\\nA tag has been placed on Cuesight, ...\n138827    Thank you for that reference, I think it's ass...\n155370    Shut up! \\n\\nFor fuck sake I haven't edited an...\n29060     Please refrain from repeatedly undoing other p...\n141870    \"\\n\\nYou know what, forget it. The guy who was...\n104691    Read well waht I write \\n\\nThis is a very deli...\n93958     But in a way, this is good.\\nWhenever anyone q...\n8365      \", 31 March 2011 (UTC)\\n\\n See you jackasses a...\n137225    After Causteau and Cadenas2008 were in contact...\n39132     Now how is someone supposed to create Eric Ver...\n25451     vandalism\\n\\nWhy have you accused me of vandal...\n47493     Do you actually believe in such a fairy tale? ...\nName: comment_text, dtype: object"
          },
          "metadata": {}
        }
      ]
    },
    {
      "cell_type": "code",
      "source": [
        "# Subsetting labels from the training data\n",
        "train_labels = training_data[['toxic', 'severe_toxic',\n",
        "                      'obscene', 'threat', 'insult', 'identity_hate']]"
      ],
      "metadata": {
        "id": "QMdy2XonPqVf",
        "execution": {
          "iopub.status.busy": "2022-07-09T20:09:52.454223Z",
          "iopub.execute_input": "2022-07-09T20:09:52.454650Z",
          "iopub.status.idle": "2022-07-09T20:09:52.465281Z",
          "shell.execute_reply.started": "2022-07-09T20:09:52.454614Z",
          "shell.execute_reply": "2022-07-09T20:09:52.464395Z"
        },
        "trusted": true
      },
      "execution_count": null,
      "outputs": []
    },
    {
      "cell_type": "markdown",
      "source": [
        "#### We can see that most of the comments have the tweet lengths around 200 words. Few comments have very high length. We can further see the distribution of the comment lengths by each labels."
      ],
      "metadata": {
        "id": "9VhXWhBzWlsU"
      }
    },
    {
      "cell_type": "code",
      "source": [
        "labels = ['toxic','severe_toxic', 'obscene', 'threat', 'insult', 'identity_hate']\n",
        "fig, ax = plt.subplots(3, 2, figsize=(20,8), sharex=True)\n",
        "axes =ax.ravel()\n",
        "for i in range(6):\n",
        "  comments = training_data.loc[training_data[labels[i]] == 1, :]\n",
        "  comment_len = [len(comment.split()) for comment in comments[\"comment_text\"]]\n",
        "  sns.histplot(comment_len, ax=axes[i], bins = 150);\n",
        "  axes[i].title.set_text(labels[i]);"
      ],
      "metadata": {
        "id": "yirLMdYaVGtA",
        "outputId": "433b120b-1776-45de-8272-c90e0ab6e24a",
        "execution": {
          "iopub.status.busy": "2022-07-09T20:09:52.466865Z",
          "iopub.execute_input": "2022-07-09T20:09:52.467635Z",
          "iopub.status.idle": "2022-07-09T20:09:54.820744Z",
          "shell.execute_reply.started": "2022-07-09T20:09:52.467593Z",
          "shell.execute_reply": "2022-07-09T20:09:54.819681Z"
        },
        "trusted": true
      },
      "execution_count": null,
      "outputs": [
        {
          "output_type": "display_data",
          "data": {
            "text/plain": "<Figure size 1440x576 with 6 Axes>",
            "image/png": "[encoded data removed]"
          },
          "metadata": {}
        }
      ]
    },
    {
      "cell_type": "markdown",
      "source": [
        "### Distribution of Labels\n"
      ],
      "metadata": {
        "id": "Hs-IFi9LYgkf"
      }
    },
    {
      "cell_type": "markdown",
      "source": [
        "##### Since this is a multi label classification task, each comment can have more than one label. Here, we will see number of comments belonging to a label. Also, we will see if comments are not classified to any labels."
      ],
      "metadata": {
        "id": "vgizTVzRcE0n"
      }
    },
    {
      "cell_type": "code",
      "source": [
        "# Number of tweets in each labels\n",
        "labels_count = training_data[labels].sum()\n",
        "plt.figure(figsize = (10,5))\n",
        "sns.barplot(x = labels_count.index,y = labels_count.values);\n",
        "plt.title(\"Number of Comments in each label\");\n",
        "plt.ylabel(\"Number of Comments\");"
      ],
      "metadata": {
        "id": "m6Yu7JCHTp4Z",
        "outputId": "de37683e-5336-474d-ff0d-44d206802438",
        "execution": {
          "iopub.status.busy": "2022-07-09T20:09:54.822484Z",
          "iopub.execute_input": "2022-07-09T20:09:54.822894Z",
          "iopub.status.idle": "2022-07-09T20:09:55.036816Z",
          "shell.execute_reply.started": "2022-07-09T20:09:54.822854Z",
          "shell.execute_reply": "2022-07-09T20:09:55.035937Z"
        },
        "trusted": true
      },
      "execution_count": null,
      "outputs": [
        {
          "output_type": "display_data",
          "data": {
            "text/plain": "<Figure size 720x360 with 1 Axes>",
            "image/png": "[encoded data removed]"
          },
          "metadata": {}
        }
      ]
    },
    {
      "cell_type": "markdown",
      "source": [
        "##### As we see, there are higher number of comments belonging to toxic labels, and comments in sever_toxic, threat and identity_hate are low. So, here we have the problem of imbalanced data and therfore we will have to be careful in selecting the correct evaluation metric later."
      ],
      "metadata": {
        "id": "z4v9NwlvbiA4"
      }
    },
    {
      "cell_type": "code",
      "source": [
        "multilabel_count = training_data[labels].sum(axis = 1).value_counts()\n",
        "multilabel_count"
      ],
      "metadata": {
        "id": "JVVVMYyZZBnP",
        "outputId": "c91d6909-f8ec-48af-bda6-e55c5615fe62",
        "execution": {
          "iopub.status.busy": "2022-07-09T20:09:55.038242Z",
          "iopub.execute_input": "2022-07-09T20:09:55.038602Z",
          "iopub.status.idle": "2022-07-09T20:09:55.053525Z",
          "shell.execute_reply.started": "2022-07-09T20:09:55.038566Z",
          "shell.execute_reply": "2022-07-09T20:09:55.052266Z"
        },
        "trusted": true
      },
      "execution_count": null,
      "outputs": [
        {
          "execution_count": 19,
          "output_type": "execute_result",
          "data": {
            "text/plain": "0    143346\n1      6360\n3      4209\n2      3480\n4      1760\n5       385\n6        31\ndtype: int64"
          },
          "metadata": {}
        }
      ]
    },
    {
      "cell_type": "code",
      "source": [
        "plt.figure(figsize=(10,5))\n",
        "sns.barplot(x = multilabel_count.iloc[1:].index, y = multilabel_count.iloc[1:].values);\n",
        "plt.title(\"Number of labels assigned to comments\");\n",
        "plt.xlabel(\"Number of labels\", fontsize=12);\n",
        "plt.ylabel(\"Number of comments\",fontsize=12);"
      ],
      "metadata": {
        "id": "DTiGwZnHZQL_",
        "outputId": "90dbe57e-0c49-4128-de3c-f2c6bf43c0c2",
        "execution": {
          "iopub.status.busy": "2022-07-09T20:09:55.055320Z",
          "iopub.execute_input": "2022-07-09T20:09:55.055915Z",
          "iopub.status.idle": "2022-07-09T20:09:55.262325Z",
          "shell.execute_reply.started": "2022-07-09T20:09:55.055881Z",
          "shell.execute_reply": "2022-07-09T20:09:55.261511Z"
        },
        "trusted": true
      },
      "execution_count": null,
      "outputs": [
        {
          "output_type": "display_data",
          "data": {
            "text/plain": "<Figure size 720x360 with 1 Axes>",
            "image/png": "[encoded data removed]"
          },
          "metadata": {}
        }
      ]
    },
    {
      "cell_type": "code",
      "source": [
        "print(f'Number of comments with no any labels(clean tweet): {multilabel_count.iloc[0]}')\n",
        "print(f'Percentage of comments with no any labels: {round(multilabel_count.iloc[0]/len(training_data) * 100,3)}%')"
      ],
      "metadata": {
        "id": "gMSajImLa5WI",
        "outputId": "3237fd51-a145-43e6-af15-bf3aff83bccf",
        "execution": {
          "iopub.status.busy": "2022-07-09T20:09:55.263768Z",
          "iopub.execute_input": "2022-07-09T20:09:55.264073Z",
          "iopub.status.idle": "2022-07-09T20:09:55.269978Z",
          "shell.execute_reply.started": "2022-07-09T20:09:55.264042Z",
          "shell.execute_reply": "2022-07-09T20:09:55.269000Z"
        },
        "trusted": true
      },
      "execution_count": null,
      "outputs": [
        {
          "name": "stdout",
          "text": "Number of comments with no any labels(clean tweet): 143346\nPercentage of comments with no any labels: 89.832%\n",
          "output_type": "stream"
        }
      ]
    },
    {
      "cell_type": "markdown",
      "source": [
        "### Correlation between the target labels\n"
      ],
      "metadata": {
        "id": "Xra_WCJbdAmu"
      }
    },
    {
      "cell_type": "code",
      "source": [
        "labels_cor = training_data[labels].corr()\n",
        "plt.figure(figsize=(10,5))\n",
        "sns.heatmap(labels_cor, annot=True, cmap='Blues');"
      ],
      "metadata": {
        "id": "kfVa3rzfc1se",
        "outputId": "f50931b0-500c-41dd-a4fa-a0baca92ae2f",
        "execution": {
          "iopub.status.busy": "2022-07-09T20:09:55.271746Z",
          "iopub.execute_input": "2022-07-09T20:09:55.272590Z",
          "iopub.status.idle": "2022-07-09T20:09:55.658657Z",
          "shell.execute_reply.started": "2022-07-09T20:09:55.272529Z",
          "shell.execute_reply": "2022-07-09T20:09:55.657768Z"
        },
        "trusted": true
      },
      "execution_count": null,
      "outputs": [
        {
          "output_type": "display_data",
          "data": {
            "text/plain": "<Figure size 720x360 with 2 Axes>",
            "image/png": "[encoded data removed]"
          },
          "metadata": {}
        }
      ]
    },
    {
      "cell_type": "markdown",
      "source": [
        "### Cleaning and Preprocessing"
      ],
      "metadata": {
        "id": "BtV06T4KeaBO"
      }
    },
    {
      "cell_type": "code",
      "source": [
        "def remove_special_chars(text):\n",
        "    re1 = re.compile(r'  +')\n",
        "    x1 = text.lower().replace('#39;', \"'\").replace('amp;', '&').replace('#146;', \"'\").replace(\n",
        "        'nbsp;', ' ').replace('#36;', '$').replace('\\\\n', \"\\n\").replace('quot;', \"'\").replace(\n",
        "        '<br />', \"\\n\").replace('\\\\\"', '\"').replace('<unk>', 'u_n').replace(' @.@ ', '.').replace(\n",
        "        ' @-@ ', '-').replace('\\\\', ' \\\\ ')\n",
        "    return re1.sub(' ', html.unescape(x1))\n",
        "\n",
        "\n",
        "def remove_non_ascii(text):\n",
        "    \"\"\"Remove non-ASCII characters from list of tokenized words\"\"\"\n",
        "    return unicodedata.normalize('NFKD', text).encode('ascii', 'ignore').decode('utf-8', 'ignore')\n",
        "\n",
        "\n",
        "def to_lowercase(text):\n",
        "    return text.lower()\n",
        "\n",
        "\n",
        "\n",
        "def remove_punctuation(text):\n",
        "    \"\"\"Remove punctuation from list of tokenized words\"\"\"\n",
        "    translator = str.maketrans('', '', string.punctuation)\n",
        "    return text.translate(translator)\n",
        "\n",
        "\n",
        "def replace_numbers(text):\n",
        "    \"\"\"Replace all interger occurrences in list of tokenized words with textual representation\"\"\"\n",
        "    return re.sub(r'\\d+', '', text)\n",
        "\n",
        "\n",
        "def remove_whitespaces(text):\n",
        "    return text.strip()\n",
        "\n",
        "\n",
        "def remove_stopwords(words, stop_words):\n",
        "    \"\"\"\n",
        "    :param words:\n",
        "    :type words:\n",
        "    :param stop_words: from sklearn.feature_extraction.stop_words import ENGLISH_STOP_WORDS\n",
        "    or\n",
        "    from spacy.lang.en.stop_words import STOP_WORDS\n",
        "    :type stop_words:\n",
        "    :return:\n",
        "    :rtype:\n",
        "    \"\"\"\n",
        "    return [word for word in words if word not in stop_words]\n",
        "\n",
        "\n",
        "def stem_words(words):\n",
        "    \"\"\"Stem words in text\"\"\"\n",
        "    stemmer = PorterStemmer()\n",
        "    return [stemmer.stem(word) for word in words]\n",
        "\n",
        "def lemmatize_words(words):\n",
        "    \"\"\"Lemmatize words in text\"\"\"\n",
        "\n",
        "    lemmatizer = WordNetLemmatizer()\n",
        "    return [lemmatizer.lemmatize(word) for word in words]\n",
        "\n",
        "def lemmatize_verbs(words):\n",
        "    \"\"\"Lemmatize verbs in text\"\"\"\n",
        "\n",
        "    lemmatizer = WordNetLemmatizer()\n",
        "    return ' '.join([lemmatizer.lemmatize(word, pos='v') for word in words])\n",
        "\n",
        "def text2words(text):\n",
        "    return word_tokenize(text)\n",
        "\n",
        "def normalize_text(text):\n",
        "    text = remove_special_chars(text)\n",
        "    text = remove_non_ascii(text)\n",
        "    text = remove_punctuation(text)\n",
        "    text = to_lowercase(text)\n",
        "    text = replace_numbers(text)\n",
        "    words = text2words(text)\n",
        "    words = remove_stopwords(words, stop_words)\n",
        "    #words = stem_words(words)# Either stem ovocar lemmatize\n",
        "    words = lemmatize_words(words)\n",
        "    words = lemmatize_verbs(words)\n",
        "\n",
        "    return ''.join(words)"
      ],
      "metadata": {
        "execution": {
          "iopub.status.busy": "2022-07-09T20:09:55.660220Z",
          "iopub.execute_input": "2022-07-09T20:09:55.660578Z",
          "iopub.status.idle": "2022-07-09T20:09:55.677249Z",
          "shell.execute_reply.started": "2022-07-09T20:09:55.660542Z",
          "shell.execute_reply": "2022-07-09T20:09:55.676360Z"
        },
        "trusted": true,
        "id": "1WjiOHKfpc-M"
      },
      "execution_count": null,
      "outputs": []
    },
    {
      "cell_type": "code",
      "source": [
        "training_data['comment_text'][0]"
      ],
      "metadata": {
        "execution": {
          "iopub.status.busy": "2022-07-09T20:09:55.678864Z",
          "iopub.execute_input": "2022-07-09T20:09:55.679247Z",
          "iopub.status.idle": "2022-07-09T20:09:55.692331Z",
          "shell.execute_reply.started": "2022-07-09T20:09:55.679214Z",
          "shell.execute_reply": "2022-07-09T20:09:55.691312Z"
        },
        "trusted": true,
        "id": "K87z6BOopc-N",
        "outputId": "d8657aae-0622-4e59-e0fe-4a841e30c790"
      },
      "execution_count": null,
      "outputs": [
        {
          "execution_count": 24,
          "output_type": "execute_result",
          "data": {
            "text/plain": "\"Explanation\\nWhy the edits made under my username Hardcore Metallica Fan were reverted? They weren't vandalisms, just closure on some GAs after I voted at New York Dolls FAC. And please don't remove the template from the talk page since I'm retired now.89.205.38.27\""
          },
          "metadata": {}
        }
      ]
    },
    {
      "cell_type": "code",
      "source": [
        "normalize_text(training_data['comment_text'][0])"
      ],
      "metadata": {
        "execution": {
          "iopub.status.busy": "2022-07-09T20:09:55.694052Z",
          "iopub.execute_input": "2022-07-09T20:09:55.694850Z",
          "iopub.status.idle": "2022-07-09T20:09:57.780532Z",
          "shell.execute_reply.started": "2022-07-09T20:09:55.694813Z",
          "shell.execute_reply": "2022-07-09T20:09:57.779431Z"
        },
        "trusted": true,
        "id": "8GDCMi7xpc-N",
        "outputId": "33f04f22-c48e-4007-eef4-ec2523fdb9cf"
      },
      "execution_count": null,
      "outputs": [
        {
          "execution_count": 25,
          "output_type": "execute_result",
          "data": {
            "text/plain": "'explanation edit make username hardcore metallica fan revert werent vandalism closure gas vote new york doll fac please dont remove template talk page since im retire'"
          },
          "metadata": {}
        }
      ]
    },
    {
      "cell_type": "code",
      "source": [
        "training_data['comment_text'] = training_data['comment_text'].apply(normalize_text)"
      ],
      "metadata": {
        "execution": {
          "iopub.status.busy": "2022-07-09T20:09:57.782146Z",
          "iopub.execute_input": "2022-07-09T20:09:57.782533Z",
          "iopub.status.idle": "2022-07-09T20:12:42.637203Z",
          "shell.execute_reply.started": "2022-07-09T20:09:57.782481Z",
          "shell.execute_reply": "2022-07-09T20:12:42.636253Z"
        },
        "trusted": true,
        "id": "8Si4RUobpc-O"
      },
      "execution_count": null,
      "outputs": []
    },
    {
      "cell_type": "code",
      "source": [
        " df_labels = training_data.iloc[:,1:]"
      ],
      "metadata": {
        "execution": {
          "iopub.status.busy": "2022-07-09T20:12:42.638533Z",
          "iopub.execute_input": "2022-07-09T20:12:42.638891Z",
          "iopub.status.idle": "2022-07-09T20:12:42.649074Z",
          "shell.execute_reply.started": "2022-07-09T20:12:42.638858Z",
          "shell.execute_reply": "2022-07-09T20:12:42.648057Z"
        },
        "trusted": true,
        "id": "BEZumEfqpc-O"
      },
      "execution_count": null,
      "outputs": []
    },
    {
      "cell_type": "code",
      "source": [
        "df_labels.shape"
      ],
      "metadata": {
        "id": "FSuu0r5A3o0n",
        "outputId": "966886fa-a9d9-475e-e88f-d0f2c5c2c99b",
        "execution": {
          "iopub.status.busy": "2022-07-09T20:12:42.650478Z",
          "iopub.execute_input": "2022-07-09T20:12:42.650977Z",
          "iopub.status.idle": "2022-07-09T20:12:42.663375Z",
          "shell.execute_reply.started": "2022-07-09T20:12:42.650936Z",
          "shell.execute_reply": "2022-07-09T20:12:42.662380Z"
        },
        "trusted": true
      },
      "execution_count": null,
      "outputs": [
        {
          "execution_count": 28,
          "output_type": "execute_result",
          "data": {
            "text/plain": "(159571, 6)"
          },
          "metadata": {}
        }
      ]
    },
    {
      "cell_type": "code",
      "source": [
        "df_labels.head()"
      ],
      "metadata": {
        "id": "y6olOo5E3wSO",
        "outputId": "47a3466f-0e7f-48ca-d14e-1c1221278989",
        "execution": {
          "iopub.status.busy": "2022-07-09T20:12:42.670088Z",
          "iopub.execute_input": "2022-07-09T20:12:42.670678Z",
          "iopub.status.idle": "2022-07-09T20:12:42.680215Z",
          "shell.execute_reply.started": "2022-07-09T20:12:42.670654Z",
          "shell.execute_reply": "2022-07-09T20:12:42.678771Z"
        },
        "trusted": true
      },
      "execution_count": null,
      "outputs": [
        {
          "execution_count": 29,
          "output_type": "execute_result",
          "data": {
            "text/plain": "   toxic  severe_toxic  obscene  threat  insult  identity_hate\n0      0             0        0       0       0              0\n1      0             0        0       0       0              0\n2      0             0        0       0       0              0\n3      0             0        0       0       0              0\n4      0             0        0       0       0              0",
            "text/html": "<div>\n<style scoped>\n    .dataframe tbody tr th:only-of-type {\n        vertical-align: middle;\n    }\n\n    .dataframe tbody tr th {\n        vertical-align: top;\n    }\n\n    .dataframe thead th {\n        text-align: right;\n    }\n</style>\n<table border=\"1\" class=\"dataframe\">\n  <thead>\n    <tr style=\"text-align: right;\">\n      <th></th>\n      <th>toxic</th>\n      <th>severe_toxic</th>\n      <th>obscene</th>\n      <th>threat</th>\n      <th>insult</th>\n      <th>identity_hate</th>\n    </tr>\n  </thead>\n  <tbody>\n    <tr>\n      <th>0</th>\n      <td>0</td>\n      <td>0</td>\n      <td>0</td>\n      <td>0</td>\n      <td>0</td>\n      <td>0</td>\n    </tr>\n    <tr>\n      <th>1</th>\n      <td>0</td>\n      <td>0</td>\n      <td>0</td>\n      <td>0</td>\n      <td>0</td>\n      <td>0</td>\n    </tr>\n    <tr>\n      <th>2</th>\n      <td>0</td>\n      <td>0</td>\n      <td>0</td>\n      <td>0</td>\n      <td>0</td>\n      <td>0</td>\n    </tr>\n    <tr>\n      <th>3</th>\n      <td>0</td>\n      <td>0</td>\n      <td>0</td>\n      <td>0</td>\n      <td>0</td>\n      <td>0</td>\n    </tr>\n    <tr>\n      <th>4</th>\n      <td>0</td>\n      <td>0</td>\n      <td>0</td>\n      <td>0</td>\n      <td>0</td>\n      <td>0</td>\n    </tr>\n  </tbody>\n</table>\n</div>"
          },
          "metadata": {}
        }
      ]
    },
    {
      "cell_type": "code",
      "source": [
        "partial_x = training_data[:120000]\n",
        "partial_y =  df_labels[:120000]"
      ],
      "metadata": {
        "execution": {
          "iopub.status.busy": "2022-07-09T20:12:42.681846Z",
          "iopub.execute_input": "2022-07-09T20:12:42.682709Z",
          "iopub.status.idle": "2022-07-09T20:12:42.691566Z",
          "shell.execute_reply.started": "2022-07-09T20:12:42.682674Z",
          "shell.execute_reply": "2022-07-09T20:12:42.690717Z"
        },
        "trusted": true,
        "id": "ow1WCuxTpc-P"
      },
      "execution_count": null,
      "outputs": []
    },
    {
      "cell_type": "code",
      "source": [
        "partial_x.shape"
      ],
      "metadata": {
        "execution": {
          "iopub.status.busy": "2022-07-09T20:12:42.696107Z",
          "iopub.execute_input": "2022-07-09T20:12:42.697745Z",
          "iopub.status.idle": "2022-07-09T20:12:42.713957Z",
          "shell.execute_reply.started": "2022-07-09T20:12:42.697707Z",
          "shell.execute_reply": "2022-07-09T20:12:42.712831Z"
        },
        "trusted": true,
        "id": "UBlSirsepc-P",
        "outputId": "0d224c7f-0c61-4924-dac6-4a4208bf0aa3"
      },
      "execution_count": null,
      "outputs": [
        {
          "execution_count": 31,
          "output_type": "execute_result",
          "data": {
            "text/plain": "(120000, 7)"
          },
          "metadata": {}
        }
      ]
    },
    {
      "cell_type": "code",
      "source": [
        "partial_y.shape"
      ],
      "metadata": {
        "execution": {
          "iopub.status.busy": "2022-07-09T20:12:42.715246Z",
          "iopub.execute_input": "2022-07-09T20:12:42.715812Z",
          "iopub.status.idle": "2022-07-09T20:12:42.721660Z",
          "shell.execute_reply.started": "2022-07-09T20:12:42.715777Z",
          "shell.execute_reply": "2022-07-09T20:12:42.720778Z"
        },
        "trusted": true,
        "id": "i0UJ-pFIpc-P",
        "outputId": "858f5cf0-6537-407a-fd35-fedb31848ac5"
      },
      "execution_count": null,
      "outputs": [
        {
          "execution_count": 32,
          "output_type": "execute_result",
          "data": {
            "text/plain": "(120000, 6)"
          },
          "metadata": {}
        }
      ]
    },
    {
      "cell_type": "markdown",
      "source": [
        "### Spliting Data "
      ],
      "metadata": {
        "id": "0ECdlyMrmq4P"
      }
    },
    {
      "cell_type": "code",
      "source": [
        "X_train, X_test, y_train, y_test = train_test_split(partial_x['comment_text'], partial_y, test_size = 0.2, random_state = 42, shuffle=True)\n"
      ],
      "metadata": {
        "id": "AcYlZgahkOHJ",
        "execution": {
          "iopub.status.busy": "2022-07-09T20:12:42.723006Z",
          "iopub.execute_input": "2022-07-09T20:12:42.723703Z",
          "iopub.status.idle": "2022-07-09T20:12:42.754528Z",
          "shell.execute_reply.started": "2022-07-09T20:12:42.723668Z",
          "shell.execute_reply": "2022-07-09T20:12:42.753636Z"
        },
        "trusted": true
      },
      "execution_count": null,
      "outputs": []
    },
    {
      "cell_type": "code",
      "source": [
        "print(X_train.shape)\n",
        "print(y_test.shape)\n",
        "print(y_train.shape)\n",
        "print(X_test.shape)"
      ],
      "metadata": {
        "id": "--HOmWtc4QZb",
        "outputId": "89bc47ce-b598-4adf-97f4-edfa79f3ca04",
        "execution": {
          "iopub.status.busy": "2022-07-09T20:12:42.755942Z",
          "iopub.execute_input": "2022-07-09T20:12:42.756511Z",
          "iopub.status.idle": "2022-07-09T20:12:42.762377Z",
          "shell.execute_reply.started": "2022-07-09T20:12:42.756459Z",
          "shell.execute_reply": "2022-07-09T20:12:42.761387Z"
        },
        "trusted": true
      },
      "execution_count": null,
      "outputs": [
        {
          "name": "stdout",
          "text": "(96000,)\n(24000, 6)\n(96000, 6)\n(24000,)\n",
          "output_type": "stream"
        }
      ]
    },
    {
      "cell_type": "markdown",
      "source": [
        "### Tokenize words for BOW"
      ],
      "metadata": {
        "id": "jOVm7Zo2nCZ6"
      }
    },
    {
      "cell_type": "code",
      "source": [
        "vocab_sz = 5000\n",
        "tokenizer = Tokenizer(num_words=vocab_sz ,oov_token=\"oov\")\n",
        "tokenizer.fit_on_texts(X_train)\n",
        "tokenized_train = tokenizer.texts_to_matrix(X_train)\n",
        "tokenized_test = tokenizer.texts_to_matrix(X_test)\n",
        "\n",
        "print(tokenized_train.shape)\n",
        "print(y_train.shape)\n",
        "print(tokenized_test.shape)\n",
        "print(y_test.shape)"
      ],
      "metadata": {
        "id": "VAsu8Fi4m2Bw",
        "execution": {
          "iopub.status.busy": "2022-07-09T20:12:42.763795Z",
          "iopub.execute_input": "2022-07-09T20:12:42.764485Z",
          "iopub.status.idle": "2022-07-09T20:12:52.752603Z",
          "shell.execute_reply.started": "2022-07-09T20:12:42.764448Z",
          "shell.execute_reply": "2022-07-09T20:12:52.751566Z"
        },
        "trusted": true,
        "outputId": "3a6684a0-abb9-4431-9fd0-ebe3836d2241"
      },
      "execution_count": null,
      "outputs": [
        {
          "name": "stdout",
          "text": "(96000, 5000)\n(96000, 6)\n(24000, 5000)\n(24000, 6)\n",
          "output_type": "stream"
        }
      ]
    },
    {
      "cell_type": "code",
      "source": [
        "tokenized_train[0:20]"
      ],
      "metadata": {
        "execution": {
          "iopub.status.busy": "2022-07-09T20:12:52.753976Z",
          "iopub.execute_input": "2022-07-09T20:12:52.754554Z",
          "iopub.status.idle": "2022-07-09T20:12:52.762679Z",
          "shell.execute_reply.started": "2022-07-09T20:12:52.754516Z",
          "shell.execute_reply": "2022-07-09T20:12:52.761546Z"
        },
        "trusted": true,
        "id": "1CgfXXz8pc-Q",
        "outputId": "3cc1459a-a946-4ded-c2d8-751c2f8e4feb"
      },
      "execution_count": null,
      "outputs": [
        {
          "execution_count": 36,
          "output_type": "execute_result",
          "data": {
            "text/plain": "array([[0., 1., 0., ..., 0., 0., 0.],\n       [0., 1., 0., ..., 0., 0., 0.],\n       [0., 0., 0., ..., 0., 0., 0.],\n       ...,\n       [0., 1., 1., ..., 0., 0., 0.],\n       [0., 1., 1., ..., 0., 0., 0.],\n       [0., 0., 1., ..., 0., 0., 0.]])"
          },
          "metadata": {}
        }
      ]
    },
    {
      "cell_type": "code",
      "source": [
        "tokenized_test[0:2]"
      ],
      "metadata": {
        "execution": {
          "iopub.status.busy": "2022-07-09T20:12:52.764521Z",
          "iopub.execute_input": "2022-07-09T20:12:52.765188Z",
          "iopub.status.idle": "2022-07-09T20:12:52.773567Z",
          "shell.execute_reply.started": "2022-07-09T20:12:52.765150Z",
          "shell.execute_reply": "2022-07-09T20:12:52.772505Z"
        },
        "trusted": true,
        "id": "X85Fv4yJpc-R",
        "outputId": "889b9304-5be2-4f9c-da6c-69647efeec97"
      },
      "execution_count": null,
      "outputs": [
        {
          "execution_count": 37,
          "output_type": "execute_result",
          "data": {
            "text/plain": "array([[0., 1., 0., ..., 0., 0., 0.],\n       [0., 1., 0., ..., 0., 0., 0.]])"
          },
          "metadata": {}
        }
      ]
    },
    {
      "cell_type": "markdown",
      "source": [
        "### Modelling"
      ],
      "metadata": {
        "id": "n0G06w9jqH0R"
      }
    },
    {
      "cell_type": "code",
      "source": [
        "model = Sequential()\n",
        "\n",
        "model.add(Dense(512, activation = 'relu', input_shape = (vocab_sz,)))\n",
        "model.add(Dense(128, activation = 'relu'))\n",
        "model.add(Dense(6, activation='sigmoid'))\n",
        "\n",
        "model.summary()"
      ],
      "metadata": {
        "id": "TKU59yqrnnVV",
        "execution": {
          "iopub.status.busy": "2022-07-09T20:12:52.775172Z",
          "iopub.execute_input": "2022-07-09T20:12:52.775960Z",
          "iopub.status.idle": "2022-07-09T20:12:55.659945Z",
          "shell.execute_reply.started": "2022-07-09T20:12:52.775924Z",
          "shell.execute_reply": "2022-07-09T20:12:55.658986Z"
        },
        "trusted": true,
        "outputId": "c0c82755-479f-4eae-c413-60c41d44d87e"
      },
      "execution_count": null,
      "outputs": [
        {
          "name": "stderr",
          "text": "2022-07-09 20:12:52.866014: I tensorflow/stream_executor/cuda/cuda_gpu_executor.cc:937] successful NUMA node read from SysFS had negative value (-1), but there must be at least one NUMA node, so returning NUMA node zero\n2022-07-09 20:12:52.989650: I tensorflow/stream_executor/cuda/cuda_gpu_executor.cc:937] successful NUMA node read from SysFS had negative value (-1), but there must be at least one NUMA node, so returning NUMA node zero\n2022-07-09 20:12:52.990401: I tensorflow/stream_executor/cuda/cuda_gpu_executor.cc:937] successful NUMA node read from SysFS had negative value (-1), but there must be at least one NUMA node, so returning NUMA node zero\n2022-07-09 20:12:52.991620: I tensorflow/core/platform/cpu_feature_guard.cc:142] This TensorFlow binary is optimized with oneAPI Deep Neural Network Library (oneDNN) to use the following CPU instructions in performance-critical operations:  AVX2 AVX512F FMA\nTo enable them in other operations, rebuild TensorFlow with the appropriate compiler flags.\n2022-07-09 20:12:52.991907: I tensorflow/stream_executor/cuda/cuda_gpu_executor.cc:937] successful NUMA node read from SysFS had negative value (-1), but there must be at least one NUMA node, so returning NUMA node zero\n2022-07-09 20:12:52.992620: I tensorflow/stream_executor/cuda/cuda_gpu_executor.cc:937] successful NUMA node read from SysFS had negative value (-1), but there must be at least one NUMA node, so returning NUMA node zero\n2022-07-09 20:12:52.993250: I tensorflow/stream_executor/cuda/cuda_gpu_executor.cc:937] successful NUMA node read from SysFS had negative value (-1), but there must be at least one NUMA node, so returning NUMA node zero\n2022-07-09 20:12:55.292453: I tensorflow/stream_executor/cuda/cuda_gpu_executor.cc:937] successful NUMA node read from SysFS had negative value (-1), but there must be at least one NUMA node, so returning NUMA node zero\n2022-07-09 20:12:55.293311: I tensorflow/stream_executor/cuda/cuda_gpu_executor.cc:937] successful NUMA node read from SysFS had negative value (-1), but there must be at least one NUMA node, so returning NUMA node zero\n2022-07-09 20:12:55.294023: I tensorflow/stream_executor/cuda/cuda_gpu_executor.cc:937] successful NUMA node r",
          "output_type": "stream"
        },
        {
          "name": "stdout",
          "text": "Model: \"sequential\"\n_________________________________________________________________\nLayer (type)                 Output Shape              Param #   \n=================================================================\ndense (Dense)                (None, 512)               2560512   \n_________________________________________________________________\ndense_1 (Dense)              (None, 128)               65664     \n_________________________________________________________________\ndense_2 (Dense)              (None, 6)                 774       \n=================================================================\nTotal params: 2,626,950\nTrainable params: 2,626,950\nNon-trainable params: 0\n_________________________________________________________________\n",
          "output_type": "stream"
        },
        {
          "name": "stderr",
          "text": "ead from SysFS had negative value (-1), but there must be at least one NUMA node, so returning NUMA node zero\n2022-07-09 20:12:55.294637: I tensorflow/core/common_runtime/gpu/gpu_device.cc:1510] Created device /job:localhost/replica:0/task:0/device:GPU:0 with 15403 MB memory:  -> device: 0, name: Tesla P100-PCIE-16GB, pci bus id: 0000:00:04.0, compute capability: 6.0\n",
          "output_type": "stream"
        }
      ]
    },
    {
      "cell_type": "code",
      "source": [
        "model.compile(optimizer='RMSProp',loss = 'binary_crossentropy',metrics=['AUC'])"
      ],
      "metadata": {
        "id": "RwZNyYkjsjfs",
        "execution": {
          "iopub.status.busy": "2022-07-09T20:12:55.661352Z",
          "iopub.execute_input": "2022-07-09T20:12:55.662160Z",
          "iopub.status.idle": "2022-07-09T20:12:55.675422Z",
          "shell.execute_reply.started": "2022-07-09T20:12:55.662121Z",
          "shell.execute_reply": "2022-07-09T20:12:55.674527Z"
        },
        "trusted": true
      },
      "execution_count": null,
      "outputs": []
    },
    {
      "cell_type": "code",
      "source": [
        "batch_size = 128\n",
        "epochs = 8\n",
        "\n",
        "history = model.fit(tokenized_train, y_train,\n",
        "          batch_size=batch_size,\n",
        "          epochs=epochs,          \n",
        "          validation_data=(tokenized_test, y_test)\n",
        "        )"
      ],
      "metadata": {
        "id": "Ask2FS6ts2qo",
        "execution": {
          "iopub.status.busy": "2022-07-09T20:12:55.677799Z",
          "iopub.execute_input": "2022-07-09T20:12:55.678047Z",
          "iopub.status.idle": "2022-07-09T20:13:41.887116Z",
          "shell.execute_reply.started": "2022-07-09T20:12:55.678025Z",
          "shell.execute_reply": "2022-07-09T20:13:41.886119Z"
        },
        "trusted": true,
        "outputId": "f40a1e48-a630-4e9a-bd21-113cffb6668d"
      },
      "execution_count": null,
      "outputs": [
        {
          "name": "stderr",
          "text": "2022-07-09 20:12:56.743028: W tensorflow/core/framework/cpu_allocator_impl.cc:80] Allocation of 1920000000 exceeds 10% of free system memory.\n2022-07-09 20:12:58.662855: W tensorflow/core/framework/cpu_allocator_impl.cc:80] Allocation of 1920000000 exceeds 10% of free system memory.\n2022-07-09 20:13:00.046350: I tensorflow/compiler/mlir/mlir_graph_optimization_pass.cc:185] None of the MLIR Optimization Passes are enabled (registered 2)\n",
          "output_type": "stream"
        },
        {
          "name": "stdout",
          "text": "Epoch 1/8\n750/750 [==============================] - 7s 7ms/step - loss: 0.0767 - auc: 0.9449 - val_loss: 0.0616 - val_auc: 0.9607\nEpoch 2/8\n750/750 [==============================] - 3s 4ms/step - loss: 0.0553 - auc: 0.9695 - val_loss: 0.1039 - val_auc: 0.9568\nEpoch 3/8\n750/750 [==============================] - 3s 4ms/step - loss: 0.0476 - auc: 0.9792 - val_loss: 0.0937 - val_auc: 0.9488\nEpoch 4/8\n750/750 [==============================] - 3s 4ms/step - loss: 0.0411 - auc: 0.9845 - val_loss: 0.0637 - val_auc: 0.9556\nEpoch 5/8\n750/750 [==============================] - 3s 4ms/step - loss: 0.0352 - auc: 0.9892 - val_loss: 0.0613 - val_auc: 0.9614\nEpoch 6/8\n750/750 [==============================] - 3s 4ms/step - loss: 0.0299 - auc: 0.9915 - val_loss: 0.0682 - val_auc: 0.9525\nEpoch 7/8\n750/750 [==============================] - 3s 5ms/step - loss: 0.0249 - auc: 0.9936 - val_loss: 0.0704 - val_auc: 0.9545\nEpoch 8/8\n750/750 [==============================] - 3s 4ms/step - loss: 0.0205 - auc: 0.9950 - val_loss: 0.0776 - val_auc: 0.9453\n",
          "output_type": "stream"
        }
      ]
    },
    {
      "cell_type": "markdown",
      "source": [
        "## LSTM"
      ],
      "metadata": {
        "id": "sGUVF7JYgLer"
      }
    },
    {
      "cell_type": "code",
      "source": [
        "tokenizer_seq_train = tokenizer.texts_to_sequences(X_train)\n",
        "tokenized_seq_test = tokenizer.texts_to_sequences(X_test)\n",
        "tokenizer_seq_train = pad_sequences(tokenizer_seq_train, maxlen=25, padding='post',truncating='post')\n",
        "tokenized_seq_test = pad_sequences(tokenized_seq_test, maxlen=25, padding='post', truncating='post')\n"
      ],
      "metadata": {
        "id": "fLUCU6iTernH",
        "execution": {
          "iopub.status.busy": "2022-07-09T20:13:41.888753Z",
          "iopub.execute_input": "2022-07-09T20:13:41.889198Z",
          "iopub.status.idle": "2022-07-09T20:13:45.312971Z",
          "shell.execute_reply.started": "2022-07-09T20:13:41.889161Z",
          "shell.execute_reply": "2022-07-09T20:13:45.312004Z"
        },
        "trusted": true
      },
      "execution_count": null,
      "outputs": []
    },
    {
      "cell_type": "code",
      "source": [
        "model_lstm = models.Sequential()\n",
        "model_lstm.add(layers.Embedding(len(tokenizer.word_index),128))\n",
        "model_lstm.add(layers.LSTM(64))\n",
        "model_lstm.add(layers.Dense(6, activation='sigmoid'))"
      ],
      "metadata": {
        "id": "4hoFB2y5gccz",
        "execution": {
          "iopub.status.busy": "2022-07-09T20:13:45.314413Z",
          "iopub.execute_input": "2022-07-09T20:13:45.315032Z",
          "iopub.status.idle": "2022-07-09T20:13:45.546861Z",
          "shell.execute_reply.started": "2022-07-09T20:13:45.314990Z",
          "shell.execute_reply": "2022-07-09T20:13:45.545883Z"
        },
        "trusted": true
      },
      "execution_count": null,
      "outputs": []
    },
    {
      "cell_type": "code",
      "source": [
        "model_lstm.compile(optimizer='adam', loss='binary_crossentropy', metrics=['AUC'])\n",
        "model_lstm.summary()"
      ],
      "metadata": {
        "id": "eNyxFYudgj1R",
        "outputId": "c61c9f42-e781-4f5c-9e83-e448bf59dc3d",
        "execution": {
          "iopub.status.busy": "2022-07-09T20:13:45.548271Z",
          "iopub.execute_input": "2022-07-09T20:13:45.548622Z",
          "iopub.status.idle": "2022-07-09T20:13:45.561274Z",
          "shell.execute_reply.started": "2022-07-09T20:13:45.548585Z",
          "shell.execute_reply": "2022-07-09T20:13:45.560308Z"
        },
        "trusted": true
      },
      "execution_count": null,
      "outputs": [
        {
          "name": "stdout",
          "text": "Model: \"sequential_1\"\n_________________________________________________________________\nLayer (type)                 Output Shape              Param #   \n=================================================================\nembedding (Embedding)        (None, None, 128)         18295680  \n_________________________________________________________________\nlstm (LSTM)                  (None, 64)                49408     \n_________________________________________________________________\ndense_3 (Dense)              (None, 6)                 390       \n=================================================================\nTotal params: 18,345,478\nTrainable params: 18,345,478\nNon-trainable params: 0\n_________________________________________________________________\n",
          "output_type": "stream"
        }
      ]
    },
    {
      "cell_type": "code",
      "source": [
        "model_lstm.fit(tokenizer_seq_train,y_train,epochs=5,validation_data=(tokenized_seq_test,y_test))"
      ],
      "metadata": {
        "id": "ErGxU5TYgmDx",
        "outputId": "b683de79-d0cb-4981-abf0-0d491e89d86a",
        "execution": {
          "iopub.status.busy": "2022-07-09T20:13:45.562867Z",
          "iopub.execute_input": "2022-07-09T20:13:45.563299Z",
          "iopub.status.idle": "2022-07-09T20:16:02.178379Z",
          "shell.execute_reply.started": "2022-07-09T20:13:45.563257Z",
          "shell.execute_reply": "2022-07-09T20:16:02.177435Z"
        },
        "trusted": true
      },
      "execution_count": null,
      "outputs": [
        {
          "name": "stdout",
          "text": "Epoch 1/5\n",
          "output_type": "stream"
        },
        {
          "name": "stderr",
          "text": "2022-07-09 20:13:47.770635: I tensorflow/stream_executor/cuda/cuda_dnn.cc:369] Loaded cuDNN version 8005\n",
          "output_type": "stream"
        },
        {
          "name": "stdout",
          "text": "3000/3000 [==============================] - 30s 9ms/step - loss: 0.0967 - auc: 0.9095 - val_loss: 0.0578 - val_auc: 0.9711\nEpoch 2/5\n3000/3000 [==============================] - 27s 9ms/step - loss: 0.0552 - auc: 0.9728 - val_loss: 0.0548 - val_auc: 0.9734\nEpoch 3/5\n3000/3000 [==============================] - 26s 9ms/step - loss: 0.0501 - auc: 0.9791 - val_loss: 0.0552 - val_auc: 0.9715\nEpoch 4/5\n3000/3000 [==============================] - 27s 9ms/step - loss: 0.0451 - auc: 0.9839 - val_loss: 0.0562 - val_auc: 0.9702\nEpoch 5/5\n3000/3000 [==============================] - 27s 9ms/step - loss: 0.0407 - auc: 0.9870 - val_loss: 0.0583 - val_auc: 0.9603\n",
          "output_type": "stream"
        },
        {
          "execution_count": 44,
          "output_type": "execute_result",
          "data": {
            "text/plain": "<keras.callbacks.History at 0x7f9cf361db10>"
          },
          "metadata": {}
        }
      ]
    },
    {
      "cell_type": "markdown",
      "source": [
        "## Bidirectional"
      ],
      "metadata": {
        "id": "j8d0R0Tng7n2"
      }
    },
    {
      "cell_type": "code",
      "source": [
        "model_lstm = models.Sequential()\n",
        "model_lstm.add(layers.Embedding(len(tokenizer.word_index),128))\n",
        "model_lstm.add(layers.Dropout(0.2))\n",
        "model_lstm.add(layers.Bidirectional(layers.LSTM(64)))\n",
        "model_lstm.add(layers.Dense(6, activation='sigmoid'))"
      ],
      "metadata": {
        "id": "usU0YXe4guHR",
        "execution": {
          "iopub.status.busy": "2022-07-09T20:16:02.179776Z",
          "iopub.execute_input": "2022-07-09T20:16:02.180227Z",
          "iopub.status.idle": "2022-07-09T20:16:02.586979Z",
          "shell.execute_reply.started": "2022-07-09T20:16:02.180188Z",
          "shell.execute_reply": "2022-07-09T20:16:02.586040Z"
        },
        "trusted": true
      },
      "execution_count": null,
      "outputs": []
    },
    {
      "cell_type": "code",
      "source": [
        "model_lstm.compile(optimizer='adam', loss='binary_crossentropy', metrics=['AUC'])\n",
        "model_lstm.fit(tokenizer_seq_train,y_train,epochs=5,validation_data=(tokenized_seq_test,y_test))"
      ],
      "metadata": {
        "id": "G8T1BGJPg-Pq",
        "outputId": "587c4c26-3aca-43f6-de64-4c4e310e7a06",
        "execution": {
          "iopub.status.busy": "2022-07-09T20:16:02.588321Z",
          "iopub.execute_input": "2022-07-09T20:16:02.588688Z",
          "iopub.status.idle": "2022-07-09T20:18:46.709484Z",
          "shell.execute_reply.started": "2022-07-09T20:16:02.588652Z",
          "shell.execute_reply": "2022-07-09T20:18:46.708602Z"
        },
        "trusted": true
      },
      "execution_count": null,
      "outputs": [
        {
          "name": "stdout",
          "text": "Epoch 1/5\n3000/3000 [==============================] - 35s 11ms/step - loss: 0.0727 - auc: 0.9529 - val_loss: 0.0581 - val_auc: 0.9756\nEpoch 2/5\n3000/3000 [==============================] - 32s 11ms/step - loss: 0.0530 - auc: 0.9758 - val_loss: 0.0530 - val_auc: 0.9720\nEpoch 3/5\n3000/3000 [==============================] - 32s 11ms/step - loss: 0.0478 - auc: 0.9808 - val_loss: 0.0535 - val_auc: 0.9683\nEpoch 4/5\n3000/3000 [==============================] - 32s 11ms/step - loss: 0.0431 - auc: 0.9855 - val_loss: 0.0550 - val_auc: 0.9659\nEpoch 5/5\n3000/3000 [==============================] - 32s 11ms/step - loss: 0.0388 - auc: 0.9884 - val_loss: 0.0587 - val_auc: 0.9575\n",
          "output_type": "stream"
        },
        {
          "execution_count": 46,
          "output_type": "execute_result",
          "data": {
            "text/plain": "<keras.callbacks.History at 0x7f9b6025da90>"
          },
          "metadata": {}
        }
      ]
    },
    {
      "cell_type": "markdown",
      "source": [
        "## GRU"
      ],
      "metadata": {
        "id": "8UzY_fZ8hGKD"
      }
    },
    {
      "cell_type": "code",
      "source": [
        "model_gru = models.Sequential()\n",
        "model_gru.add(layers.Embedding(len(tokenizer.word_index),128))\n",
        "model_gru.add(layers.Dropout(0.2))\n",
        "model_gru.add(layers.Bidirectional(layers.GRU(128,return_sequences=True)))\n",
        "model_gru.add(layers.Dropout(0.2))\n",
        "model_gru.add(layers.Bidirectional(layers.GRU(64)))\n",
        "model_gru.add(layers.Dense(6, activation='sigmoid'))"
      ],
      "metadata": {
        "id": "cn_QBGu7hDpK",
        "execution": {
          "iopub.status.busy": "2022-07-09T20:18:46.712271Z",
          "iopub.execute_input": "2022-07-09T20:18:46.713732Z",
          "iopub.status.idle": "2022-07-09T20:18:47.409851Z",
          "shell.execute_reply.started": "2022-07-09T20:18:46.713692Z",
          "shell.execute_reply": "2022-07-09T20:18:47.408904Z"
        },
        "trusted": true
      },
      "execution_count": null,
      "outputs": []
    },
    {
      "cell_type": "code",
      "source": [
        "model_gru.compile(optimizer='adam', loss='binary_crossentropy', metrics=['AUC'])\n",
        "model_gru.fit(tokenizer_seq_train,y_train,epochs=6,validation_data=(tokenized_seq_test,y_test))"
      ],
      "metadata": {
        "id": "R4WM9mxqhbqJ",
        "outputId": "f7b4d9c4-43bc-48ed-97bd-3d0b5b9efd78",
        "execution": {
          "iopub.status.busy": "2022-07-09T20:18:47.411288Z",
          "iopub.execute_input": "2022-07-09T20:18:47.411656Z",
          "iopub.status.idle": "2022-07-09T20:23:00.742402Z",
          "shell.execute_reply.started": "2022-07-09T20:18:47.411620Z",
          "shell.execute_reply": "2022-07-09T20:23:00.741548Z"
        },
        "trusted": true
      },
      "execution_count": null,
      "outputs": [
        {
          "name": "stdout",
          "text": "Epoch 1/6\n3000/3000 [==============================] - 46s 14ms/step - loss: 0.0653 - auc: 0.9613 - val_loss: 0.0535 - val_auc: 0.9760\nEpoch 2/6\n3000/3000 [==============================] - 41s 14ms/step - loss: 0.0511 - auc: 0.9770 - val_loss: 0.0520 - val_auc: 0.9733\nEpoch 3/6\n3000/3000 [==============================] - 41s 14ms/step - loss: 0.0456 - auc: 0.9822 - val_loss: 0.0553 - val_auc: 0.9630\nEpoch 4/6\n3000/3000 [==============================] - 42s 14ms/step - loss: 0.0407 - auc: 0.9865 - val_loss: 0.0539 - val_auc: 0.9694\nEpoch 5/6\n3000/3000 [==============================] - 41s 14ms/step - loss: 0.0363 - auc: 0.9896 - val_loss: 0.0582 - val_auc: 0.9614\nEpoch 6/6\n3000/3000 [==============================] - 41s 14ms/step - loss: 0.0321 - auc: 0.9915 - val_loss: 0.0650 - val_auc: 0.9473\n",
          "output_type": "stream"
        },
        {
          "execution_count": 48,
          "output_type": "execute_result",
          "data": {
            "text/plain": "<keras.callbacks.History at 0x7f9b3f6ba050>"
          },
          "metadata": {}
        }
      ]
    },
    {
      "cell_type": "code",
      "source": [
        ""
      ],
      "metadata": {
        "id": "87r3wkk7pc-V"
      },
      "execution_count": null,
      "outputs": []
    }
  ]
}